{
 "cells": [
  {
   "cell_type": "markdown",
   "id": "124c7be1b7c8a68e",
   "metadata": {},
   "source": [
    "# This is a sample Jupyter Notebook\n",
    "\n",
    "Below is an example of a code cell. \n",
    "Put your cursor into the cell and press Shift+Enter to execute it and select the next one, or click 'Run Cell' button.\n",
    "\n",
    "Press Double Shift to search everywhere for classes, files, tool windows, actions, and settings.\n",
    "\n",
    "To learn more about Jupyter Notebooks in PyCharm, see [help](https://www.jetbrains.com/help/pycharm/ipython-notebook-support.html).\n",
    "For an overview of PyCharm, go to Help -> Learn IDE features or refer to [our documentation](https://www.jetbrains.com/help/pycharm/getting-started.html)."
   ]
  },
  {
   "cell_type": "code",
   "execution_count": 1,
   "id": "e0fb5c1cc9067d74",
   "metadata": {
    "ExecuteTime": {
     "end_time": "2025-04-15T17:25:03.841030Z",
     "start_time": "2025-04-15T17:25:02.972524Z"
    }
   },
   "outputs": [],
   "source": ""
  },
  {
   "cell_type": "code",
   "execution_count": 5,
   "id": "8db66eb3247727b",
   "metadata": {
    "ExecuteTime": {
     "end_time": "2025-04-15T17:45:24.126269Z",
     "start_time": "2025-04-15T17:45:23.605910Z"
    }
   },
   "outputs": [
    {
     "data": {
      "text/html": [
       "\n",
       "        <iframe\n",
       "            width=\"100%\"\n",
       "            height=\"650\"\n",
       "            src=\"http://127.0.0.1:8050/\"\n",
       "            frameborder=\"0\"\n",
       "            allowfullscreen\n",
       "            \n",
       "        ></iframe>\n",
       "        "
      ],
      "text/plain": [
       "<IPython.lib.display.IFrame at 0x28b0d1229c0>"
      ]
     },
     "metadata": {},
     "output_type": "display_data"
    }
   ],
   "source": ""
  },
  {
   "cell_type": "code",
   "id": "f7f2729dbfcc75d2",
   "metadata": {
    "ExecuteTime": {
     "end_time": "2025-04-17T07:44:05.943369Z",
     "start_time": "2025-04-17T07:43:55.942545Z"
    }
   },
   "source": "",
   "outputs": [
    {
     "ename": "OSError",
     "evalue": "Address 'http://127.0.0.1:8050' already in use.\n    Try passing a different port to run.",
     "output_type": "error",
     "traceback": [
      "\u001B[1;31m---------------------------------------------------------------------------\u001B[0m",
      "\u001B[1;31mOSError\u001B[0m                                   Traceback (most recent call last)",
      "Cell \u001B[1;32mIn[3], line 118\u001B[0m\n\u001B[0;32m    114\u001B[0m     \u001B[38;5;28;01mreturn\u001B[39;00m fig1, fig2, fig3, stats\n\u001B[0;32m    117\u001B[0m \u001B[38;5;28;01mif\u001B[39;00m \u001B[38;5;18m__name__\u001B[39m \u001B[38;5;241m==\u001B[39m \u001B[38;5;124m\"\u001B[39m\u001B[38;5;124m__main__\u001B[39m\u001B[38;5;124m\"\u001B[39m:\n\u001B[1;32m--> 118\u001B[0m     app\u001B[38;5;241m.\u001B[39mrun(debug\u001B[38;5;241m=\u001B[39m\u001B[38;5;28;01mTrue\u001B[39;00m)\n",
      "File \u001B[1;32m~\\miniconda3\\Lib\\site-packages\\dash\\dash.py:2267\u001B[0m, in \u001B[0;36mDash.run\u001B[1;34m(self, host, port, proxy, debug, jupyter_mode, jupyter_width, jupyter_height, jupyter_server_url, dev_tools_ui, dev_tools_props_check, dev_tools_serve_dev_bundles, dev_tools_hot_reload, dev_tools_hot_reload_interval, dev_tools_hot_reload_watch_interval, dev_tools_hot_reload_max_retry, dev_tools_silence_routes_logging, dev_tools_disable_version_check, dev_tools_prune_errors, **flask_run_options)\u001B[0m\n\u001B[0;32m   2264\u001B[0m             extra_files\u001B[38;5;241m.\u001B[39mappend(path)\n\u001B[0;32m   2266\u001B[0m \u001B[38;5;28;01mif\u001B[39;00m jupyter_dash\u001B[38;5;241m.\u001B[39mactive:\n\u001B[1;32m-> 2267\u001B[0m     jupyter_dash\u001B[38;5;241m.\u001B[39mrun_app(\n\u001B[0;32m   2268\u001B[0m         \u001B[38;5;28mself\u001B[39m,\n\u001B[0;32m   2269\u001B[0m         mode\u001B[38;5;241m=\u001B[39mjupyter_mode,\n\u001B[0;32m   2270\u001B[0m         width\u001B[38;5;241m=\u001B[39mjupyter_width,\n\u001B[0;32m   2271\u001B[0m         height\u001B[38;5;241m=\u001B[39mjupyter_height,\n\u001B[0;32m   2272\u001B[0m         host\u001B[38;5;241m=\u001B[39mhost,\n\u001B[0;32m   2273\u001B[0m         port\u001B[38;5;241m=\u001B[39mport,\n\u001B[0;32m   2274\u001B[0m         server_url\u001B[38;5;241m=\u001B[39mjupyter_server_url,\n\u001B[0;32m   2275\u001B[0m     )\n\u001B[0;32m   2276\u001B[0m \u001B[38;5;28;01melse\u001B[39;00m:\n\u001B[0;32m   2277\u001B[0m     \u001B[38;5;28mself\u001B[39m\u001B[38;5;241m.\u001B[39mserver\u001B[38;5;241m.\u001B[39mrun(host\u001B[38;5;241m=\u001B[39mhost, port\u001B[38;5;241m=\u001B[39mport, debug\u001B[38;5;241m=\u001B[39mdebug, \u001B[38;5;241m*\u001B[39m\u001B[38;5;241m*\u001B[39mflask_run_options)\n",
      "File \u001B[1;32m~\\miniconda3\\Lib\\site-packages\\dash\\_jupyter.py:406\u001B[0m, in \u001B[0;36mJupyterDash.run_app\u001B[1;34m(self, app, mode, width, height, host, port, server_url)\u001B[0m\n\u001B[0;32m    404\u001B[0m     display(HTML(msg))\n\u001B[0;32m    405\u001B[0m \u001B[38;5;28;01melse\u001B[39;00m:\n\u001B[1;32m--> 406\u001B[0m     \u001B[38;5;28;01mraise\u001B[39;00m final_error\n",
      "File \u001B[1;32m~\\miniconda3\\Lib\\site-packages\\dash\\_jupyter.py:393\u001B[0m, in \u001B[0;36mJupyterDash.run_app\u001B[1;34m(self, app, mode, width, height, host, port, server_url)\u001B[0m\n\u001B[0;32m    390\u001B[0m         \u001B[38;5;28;01mraise\u001B[39;00m err\n\u001B[0;32m    392\u001B[0m \u001B[38;5;28;01mtry\u001B[39;00m:\n\u001B[1;32m--> 393\u001B[0m     wait_for_app()\n\u001B[0;32m    395\u001B[0m     \u001B[38;5;28;01mif\u001B[39;00m \u001B[38;5;28mself\u001B[39m\u001B[38;5;241m.\u001B[39min_colab:\n\u001B[0;32m    396\u001B[0m         JupyterDash\u001B[38;5;241m.\u001B[39m_display_in_colab(dashboard_url, port, mode, width, height)\n",
      "File \u001B[1;32m~\\miniconda3\\Lib\\site-packages\\retrying.py:56\u001B[0m, in \u001B[0;36mretry.<locals>.wrap.<locals>.wrapped_f\u001B[1;34m(*args, **kw)\u001B[0m\n\u001B[0;32m     54\u001B[0m \u001B[38;5;129m@six\u001B[39m\u001B[38;5;241m.\u001B[39mwraps(f)\n\u001B[0;32m     55\u001B[0m \u001B[38;5;28;01mdef\u001B[39;00m\u001B[38;5;250m \u001B[39m\u001B[38;5;21mwrapped_f\u001B[39m(\u001B[38;5;241m*\u001B[39margs, \u001B[38;5;241m*\u001B[39m\u001B[38;5;241m*\u001B[39mkw):\n\u001B[1;32m---> 56\u001B[0m     \u001B[38;5;28;01mreturn\u001B[39;00m Retrying(\u001B[38;5;241m*\u001B[39mdargs, \u001B[38;5;241m*\u001B[39m\u001B[38;5;241m*\u001B[39mdkw)\u001B[38;5;241m.\u001B[39mcall(f, \u001B[38;5;241m*\u001B[39margs, \u001B[38;5;241m*\u001B[39m\u001B[38;5;241m*\u001B[39mkw)\n",
      "File \u001B[1;32m~\\miniconda3\\Lib\\site-packages\\retrying.py:266\u001B[0m, in \u001B[0;36mRetrying.call\u001B[1;34m(self, fn, *args, **kwargs)\u001B[0m\n\u001B[0;32m    263\u001B[0m \u001B[38;5;28;01mif\u001B[39;00m \u001B[38;5;28mself\u001B[39m\u001B[38;5;241m.\u001B[39mstop(attempt_number, delay_since_first_attempt_ms):\n\u001B[0;32m    264\u001B[0m     \u001B[38;5;28;01mif\u001B[39;00m \u001B[38;5;129;01mnot\u001B[39;00m \u001B[38;5;28mself\u001B[39m\u001B[38;5;241m.\u001B[39m_wrap_exception \u001B[38;5;129;01mand\u001B[39;00m attempt\u001B[38;5;241m.\u001B[39mhas_exception:\n\u001B[0;32m    265\u001B[0m         \u001B[38;5;66;03m# get() on an attempt with an exception should cause it to be raised, but raise just in case\u001B[39;00m\n\u001B[1;32m--> 266\u001B[0m         \u001B[38;5;28;01mraise\u001B[39;00m attempt\u001B[38;5;241m.\u001B[39mget()\n\u001B[0;32m    267\u001B[0m     \u001B[38;5;28;01melse\u001B[39;00m:\n\u001B[0;32m    268\u001B[0m         \u001B[38;5;28;01mraise\u001B[39;00m RetryError(attempt)\n",
      "File \u001B[1;32m~\\miniconda3\\Lib\\site-packages\\retrying.py:301\u001B[0m, in \u001B[0;36mAttempt.get\u001B[1;34m(self, wrap_exception)\u001B[0m\n\u001B[0;32m    299\u001B[0m         \u001B[38;5;28;01mraise\u001B[39;00m RetryError(\u001B[38;5;28mself\u001B[39m)\n\u001B[0;32m    300\u001B[0m     \u001B[38;5;28;01melse\u001B[39;00m:\n\u001B[1;32m--> 301\u001B[0m         six\u001B[38;5;241m.\u001B[39mreraise(\u001B[38;5;28mself\u001B[39m\u001B[38;5;241m.\u001B[39mvalue[\u001B[38;5;241m0\u001B[39m], \u001B[38;5;28mself\u001B[39m\u001B[38;5;241m.\u001B[39mvalue[\u001B[38;5;241m1\u001B[39m], \u001B[38;5;28mself\u001B[39m\u001B[38;5;241m.\u001B[39mvalue[\u001B[38;5;241m2\u001B[39m])\n\u001B[0;32m    302\u001B[0m \u001B[38;5;28;01melse\u001B[39;00m:\n\u001B[0;32m    303\u001B[0m     \u001B[38;5;28;01mreturn\u001B[39;00m \u001B[38;5;28mself\u001B[39m\u001B[38;5;241m.\u001B[39mvalue\n",
      "File \u001B[1;32m~\\miniconda3\\Lib\\site-packages\\six.py:724\u001B[0m, in \u001B[0;36mreraise\u001B[1;34m(tp, value, tb)\u001B[0m\n\u001B[0;32m    722\u001B[0m     \u001B[38;5;28;01mif\u001B[39;00m value\u001B[38;5;241m.\u001B[39m__traceback__ \u001B[38;5;129;01mis\u001B[39;00m \u001B[38;5;129;01mnot\u001B[39;00m tb:\n\u001B[0;32m    723\u001B[0m         \u001B[38;5;28;01mraise\u001B[39;00m value\u001B[38;5;241m.\u001B[39mwith_traceback(tb)\n\u001B[1;32m--> 724\u001B[0m     \u001B[38;5;28;01mraise\u001B[39;00m value\n\u001B[0;32m    725\u001B[0m \u001B[38;5;28;01mfinally\u001B[39;00m:\n\u001B[0;32m    726\u001B[0m     value \u001B[38;5;241m=\u001B[39m \u001B[38;5;28;01mNone\u001B[39;00m\n",
      "File \u001B[1;32m~\\miniconda3\\Lib\\site-packages\\retrying.py:251\u001B[0m, in \u001B[0;36mRetrying.call\u001B[1;34m(self, fn, *args, **kwargs)\u001B[0m\n\u001B[0;32m    248\u001B[0m     \u001B[38;5;28mself\u001B[39m\u001B[38;5;241m.\u001B[39m_before_attempts(attempt_number)\n\u001B[0;32m    250\u001B[0m \u001B[38;5;28;01mtry\u001B[39;00m:\n\u001B[1;32m--> 251\u001B[0m     attempt \u001B[38;5;241m=\u001B[39m Attempt(fn(\u001B[38;5;241m*\u001B[39margs, \u001B[38;5;241m*\u001B[39m\u001B[38;5;241m*\u001B[39mkwargs), attempt_number, \u001B[38;5;28;01mFalse\u001B[39;00m)\n\u001B[0;32m    252\u001B[0m \u001B[38;5;28;01mexcept\u001B[39;00m:\n\u001B[0;32m    253\u001B[0m     tb \u001B[38;5;241m=\u001B[39m sys\u001B[38;5;241m.\u001B[39mexc_info()\n",
      "File \u001B[1;32m~\\miniconda3\\Lib\\site-packages\\dash\\_jupyter.py:384\u001B[0m, in \u001B[0;36mJupyterDash.run_app.<locals>.wait_for_app\u001B[1;34m()\u001B[0m\n\u001B[0;32m    382\u001B[0m     \u001B[38;5;28;01mif\u001B[39;00m res \u001B[38;5;241m!=\u001B[39m \u001B[38;5;124m\"\u001B[39m\u001B[38;5;124mAlive\u001B[39m\u001B[38;5;124m\"\u001B[39m:\n\u001B[0;32m    383\u001B[0m         url \u001B[38;5;241m=\u001B[39m \u001B[38;5;124mf\u001B[39m\u001B[38;5;124m\"\u001B[39m\u001B[38;5;124mhttp://\u001B[39m\u001B[38;5;132;01m{\u001B[39;00mhost\u001B[38;5;132;01m}\u001B[39;00m\u001B[38;5;124m:\u001B[39m\u001B[38;5;132;01m{\u001B[39;00mport\u001B[38;5;132;01m}\u001B[39;00m\u001B[38;5;124m\"\u001B[39m\n\u001B[1;32m--> 384\u001B[0m         \u001B[38;5;28;01mraise\u001B[39;00m \u001B[38;5;167;01mOSError\u001B[39;00m(\n\u001B[0;32m    385\u001B[0m             \u001B[38;5;124mf\u001B[39m\u001B[38;5;124m\"\u001B[39m\u001B[38;5;124mAddress \u001B[39m\u001B[38;5;124m'\u001B[39m\u001B[38;5;132;01m{\u001B[39;00murl\u001B[38;5;132;01m}\u001B[39;00m\u001B[38;5;124m'\u001B[39m\u001B[38;5;124m already in use.\u001B[39m\u001B[38;5;130;01m\\n\u001B[39;00m\u001B[38;5;124m\"\u001B[39m\n\u001B[0;32m    386\u001B[0m             \u001B[38;5;124m\"\u001B[39m\u001B[38;5;124m    Try passing a different port to run.\u001B[39m\u001B[38;5;124m\"\u001B[39m\n\u001B[0;32m    387\u001B[0m         )\n\u001B[0;32m    388\u001B[0m \u001B[38;5;28;01mexcept\u001B[39;00m requests\u001B[38;5;241m.\u001B[39mConnectionError \u001B[38;5;28;01mas\u001B[39;00m err:\n\u001B[0;32m    389\u001B[0m     _get_error()\n",
      "\u001B[1;31mOSError\u001B[0m: Address 'http://127.0.0.1:8050' already in use.\n    Try passing a different port to run."
     ]
    }
   ],
   "execution_count": 3
  },
  {
   "cell_type": "markdown",
   "id": "7cc9da178e8f8d79",
   "metadata": {},
   "source": []
  },
  {
   "cell_type": "code",
   "id": "be5d6ec706d2d1a0",
   "metadata": {
    "ExecuteTime": {
     "end_time": "2025-04-17T10:47:54.660670Z",
     "start_time": "2025-04-17T10:47:54.647988Z"
    }
   },
   "source": "",
   "outputs": [
    {
     "ename": "SyntaxError",
     "evalue": "invalid syntax (2149480194.py, line 4)",
     "output_type": "error",
     "traceback": [
      "\u001B[1;36m  Cell \u001B[1;32mIn[2], line 4\u001B[1;36m\u001B[0m\n\u001B[1;33m    from plotly.subplots import ((make_subplots))\u001B[0m\n\u001B[1;37m                                 ^\u001B[0m\n\u001B[1;31mSyntaxError\u001B[0m\u001B[1;31m:\u001B[0m invalid syntax\n"
     ]
    }
   ],
   "execution_count": 2
  },
  {
   "metadata": {
    "ExecuteTime": {
     "end_time": "2025-04-17T11:02:45.979043Z",
     "start_time": "2025-04-17T11:02:45.969795Z"
    }
   },
   "cell_type": "code",
   "source": "",
   "id": "b3c2692545ba80c0",
   "outputs": [
    {
     "ename": "SyntaxError",
     "evalue": "(unicode error) 'unicodeescape' codec can't decode bytes in position 2-3: truncated \\UXXXXXXXX escape (3540055882.py, line 9)",
     "output_type": "error",
     "traceback": [
      "\u001B[1;36m  Cell \u001B[1;32mIn[8], line 9\u001B[1;36m\u001B[0m\n\u001B[1;33m    df = pd.read_csv(\"C:\\Users\\makss\\OneDrive\\Bureaublad\\patients.csv\")\u001B[0m\n\u001B[1;37m                     ^\u001B[0m\n\u001B[1;31mSyntaxError\u001B[0m\u001B[1;31m:\u001B[0m (unicode error) 'unicodeescape' codec can't decode bytes in position 2-3: truncated \\UXXXXXXXX escape\n"
     ]
    }
   ],
   "execution_count": 8
  },
  {
   "metadata": {
    "ExecuteTime": {
     "end_time": "2025-04-17T11:29:46.530304Z",
     "start_time": "2025-04-17T11:29:45.974415Z"
    }
   },
   "cell_type": "code",
   "source": "",
   "id": "8c939cf99fbb5519",
   "outputs": [
    {
     "data": {
      "text/plain": [
       "<IPython.lib.display.IFrame at 0x1c2053c6990>"
      ],
      "text/html": [
       "\n",
       "        <iframe\n",
       "            width=\"100%\"\n",
       "            height=\"650\"\n",
       "            src=\"http://127.0.0.1:8050/\"\n",
       "            frameborder=\"0\"\n",
       "            allowfullscreen\n",
       "            \n",
       "        ></iframe>\n",
       "        "
      ]
     },
     "metadata": {},
     "output_type": "display_data"
    }
   ],
   "execution_count": 14
  },
  {
   "metadata": {
    "ExecuteTime": {
     "end_time": "2025-04-17T14:50:59.779355Z",
     "start_time": "2025-04-17T14:50:59.288327Z"
    }
   },
   "cell_type": "code",
   "source": "",
   "id": "ac4fcdddd691b32a",
   "outputs": [
    {
     "data": {
      "text/plain": [
       "<IPython.lib.display.IFrame at 0x18773342420>"
      ],
      "text/html": [
       "\n",
       "        <iframe\n",
       "            width=\"100%\"\n",
       "            height=\"650\"\n",
       "            src=\"http://127.0.0.1:8050/\"\n",
       "            frameborder=\"0\"\n",
       "            allowfullscreen\n",
       "            \n",
       "        ></iframe>\n",
       "        "
      ]
     },
     "metadata": {},
     "output_type": "display_data"
    }
   ],
   "execution_count": 3
  },
  {
   "metadata": {
    "ExecuteTime": {
     "end_time": "2025-04-17T19:03:06.256257Z",
     "start_time": "2025-04-17T19:03:02.586280Z"
    }
   },
   "cell_type": "code",
   "source": [
    "import csv\n",
    "import random\n",
    "from datetime import datetime, timedelta\n",
    "\n",
    "def generate_gender():\n",
    "    return random.choice(['Male', 'Female'])\n",
    "\n",
    "def generate_condition():\n",
    "    return random.choices(['Critical', 'Stable', 'Recovering'], weights=[0.4, 0.4, 0.2])[0]\n",
    "\n",
    "def generate_heart_rate(condition):\n",
    "    if condition == 'Critical':\n",
    "        return random.randint(50, 140)\n",
    "    elif condition == 'Stable':\n",
    "        return random.randint(60, 100)\n",
    "    else:\n",
    "        return random.randint(60, 90)\n",
    "\n",
    "def generate_blood_pressure(condition):\n",
    "    if condition == 'Critical':\n",
    "        systolic = random.randint(130, 160)\n",
    "        diastolic = random.randint(80, 110)\n",
    "    elif condition == 'Stable':\n",
    "        systolic = random.randint(110, 140)\n",
    "        diastolic = random.randint(70, 90)\n",
    "    else:\n",
    "        systolic = random.randint(120, 140)\n",
    "        diastolic = random.randint(75, 90)\n",
    "    while diastolic >= systolic:\n",
    "        diastolic = random.randint(70, min(90, systolic - 1))\n",
    "    return f\"{systolic}/{diastolic}\"\n",
    "\n",
    "def generate_last_update():\n",
    "    now = datetime.now()\n",
    "    days_ago = random.randint(0, 90)\n",
    "    random_date = now - timedelta(days=days_ago)\n",
    "    hour = random.randint(0, 23)\n",
    "    minute = random.choice([0, 15, 30, 45])\n",
    "    random_date = random_date.replace(hour=hour, minute=minute, second=0, microsecond=0)\n",
    "    return random_date.strftime(\"%Y-%m-%d %H:%M\")\n",
    "\n",
    "def generate_patients(num_patients):\n",
    "    patients = []\n",
    "    for patient_id in range(1, num_patients + 1):\n",
    "        age = random.randint(18, 100)\n",
    "        gender = generate_gender()\n",
    "        condition = generate_condition()\n",
    "        heart_rate = generate_heart_rate(condition)\n",
    "        blood_pressure = generate_blood_pressure(condition)\n",
    "        last_update = generate_last_update()\n",
    "        patients.append([\n",
    "            patient_id,\n",
    "            age,\n",
    "            gender,\n",
    "            condition,\n",
    "            heart_rate,\n",
    "            blood_pressure,\n",
    "            last_update\n",
    "        ])\n",
    "    return patients\n",
    "\n",
    "def save_to_csv(patients, filename):\n",
    "    headers = ['patient_id', 'age', 'gender', 'condition', 'heart_rate', 'blood_pressure', 'last_update']\n",
    "    with open(filename, 'w', newline='') as file:\n",
    "        writer = csv.writer(file, delimiter=';')\n",
    "        writer.writerow(headers)\n",
    "        writer.writerows(patients)\n",
    "\n",
    "# Запрос количества пациентов у пользователя\n",
    "num_patients = int(input(\"Введите количество пациентов для генерации: \"))\n",
    "patients_data = generate_patients(num_patients)\n",
    "save_to_csv(patients_data, 'random_patients.csv')\n",
    "print(f\"Файл 'random_patients.csv' с {num_patients} пациентами успешно создан!\")"
   ],
   "id": "354fa459daa871e1",
   "outputs": [
    {
     "ename": "KeyboardInterrupt",
     "evalue": "Interrupted by user",
     "output_type": "error",
     "traceback": [
      "\u001B[1;31m---------------------------------------------------------------------------\u001B[0m",
      "\u001B[1;31mKeyboardInterrupt\u001B[0m                         Traceback (most recent call last)",
      "Cell \u001B[1;32mIn[2], line 70\u001B[0m\n\u001B[0;32m     67\u001B[0m         writer\u001B[38;5;241m.\u001B[39mwriterows(patients)\n\u001B[0;32m     69\u001B[0m \u001B[38;5;66;03m# Запрос количества пациентов у пользователя\u001B[39;00m\n\u001B[1;32m---> 70\u001B[0m num_patients \u001B[38;5;241m=\u001B[39m \u001B[38;5;28mint\u001B[39m(\u001B[38;5;28minput\u001B[39m(\u001B[38;5;124m\"\u001B[39m\u001B[38;5;124mВведите количество пациентов для генерации: \u001B[39m\u001B[38;5;124m\"\u001B[39m))\n\u001B[0;32m     71\u001B[0m patients_data \u001B[38;5;241m=\u001B[39m generate_patients(num_patients)\n\u001B[0;32m     72\u001B[0m save_to_csv(patients_data, \u001B[38;5;124m'\u001B[39m\u001B[38;5;124mrandom_patients.csv\u001B[39m\u001B[38;5;124m'\u001B[39m)\n",
      "File \u001B[1;32m~\\miniconda3\\Lib\\site-packages\\ipykernel\\kernelbase.py:1282\u001B[0m, in \u001B[0;36mKernel.raw_input\u001B[1;34m(self, prompt)\u001B[0m\n\u001B[0;32m   1280\u001B[0m     msg \u001B[38;5;241m=\u001B[39m \u001B[38;5;124m\"\u001B[39m\u001B[38;5;124mraw_input was called, but this frontend does not support input requests.\u001B[39m\u001B[38;5;124m\"\u001B[39m\n\u001B[0;32m   1281\u001B[0m     \u001B[38;5;28;01mraise\u001B[39;00m StdinNotImplementedError(msg)\n\u001B[1;32m-> 1282\u001B[0m \u001B[38;5;28;01mreturn\u001B[39;00m \u001B[38;5;28mself\u001B[39m\u001B[38;5;241m.\u001B[39m_input_request(\n\u001B[0;32m   1283\u001B[0m     \u001B[38;5;28mstr\u001B[39m(prompt),\n\u001B[0;32m   1284\u001B[0m     \u001B[38;5;28mself\u001B[39m\u001B[38;5;241m.\u001B[39m_parent_ident[\u001B[38;5;124m\"\u001B[39m\u001B[38;5;124mshell\u001B[39m\u001B[38;5;124m\"\u001B[39m],\n\u001B[0;32m   1285\u001B[0m     \u001B[38;5;28mself\u001B[39m\u001B[38;5;241m.\u001B[39mget_parent(\u001B[38;5;124m\"\u001B[39m\u001B[38;5;124mshell\u001B[39m\u001B[38;5;124m\"\u001B[39m),\n\u001B[0;32m   1286\u001B[0m     password\u001B[38;5;241m=\u001B[39m\u001B[38;5;28;01mFalse\u001B[39;00m,\n\u001B[0;32m   1287\u001B[0m )\n",
      "File \u001B[1;32m~\\miniconda3\\Lib\\site-packages\\ipykernel\\kernelbase.py:1325\u001B[0m, in \u001B[0;36mKernel._input_request\u001B[1;34m(self, prompt, ident, parent, password)\u001B[0m\n\u001B[0;32m   1322\u001B[0m \u001B[38;5;28;01mexcept\u001B[39;00m \u001B[38;5;167;01mKeyboardInterrupt\u001B[39;00m:\n\u001B[0;32m   1323\u001B[0m     \u001B[38;5;66;03m# re-raise KeyboardInterrupt, to truncate traceback\u001B[39;00m\n\u001B[0;32m   1324\u001B[0m     msg \u001B[38;5;241m=\u001B[39m \u001B[38;5;124m\"\u001B[39m\u001B[38;5;124mInterrupted by user\u001B[39m\u001B[38;5;124m\"\u001B[39m\n\u001B[1;32m-> 1325\u001B[0m     \u001B[38;5;28;01mraise\u001B[39;00m \u001B[38;5;167;01mKeyboardInterrupt\u001B[39;00m(msg) \u001B[38;5;28;01mfrom\u001B[39;00m\u001B[38;5;250m \u001B[39m\u001B[38;5;28;01mNone\u001B[39;00m\n\u001B[0;32m   1326\u001B[0m \u001B[38;5;28;01mexcept\u001B[39;00m \u001B[38;5;167;01mException\u001B[39;00m:\n\u001B[0;32m   1327\u001B[0m     \u001B[38;5;28mself\u001B[39m\u001B[38;5;241m.\u001B[39mlog\u001B[38;5;241m.\u001B[39mwarning(\u001B[38;5;124m\"\u001B[39m\u001B[38;5;124mInvalid Message:\u001B[39m\u001B[38;5;124m\"\u001B[39m, exc_info\u001B[38;5;241m=\u001B[39m\u001B[38;5;28;01mTrue\u001B[39;00m)\n",
      "\u001B[1;31mKeyboardInterrupt\u001B[0m: Interrupted by user"
     ]
    }
   ],
   "execution_count": 2
  },
  {
   "metadata": {},
   "cell_type": "code",
   "outputs": [],
   "execution_count": null,
   "source": "",
   "id": "8ed932a72511071d"
  },
  {
   "metadata": {
    "ExecuteTime": {
     "end_time": "2025-04-17T15:16:28.001429Z",
     "start_time": "2025-04-17T15:16:27.676684Z"
    }
   },
   "cell_type": "code",
   "source": "",
   "id": "54a29c939ff92dd8",
   "outputs": [
    {
     "data": {
      "text/plain": [
       "<IPython.lib.display.IFrame at 0x18773a257f0>"
      ],
      "text/html": [
       "\n",
       "        <iframe\n",
       "            width=\"100%\"\n",
       "            height=\"650\"\n",
       "            src=\"http://127.0.0.1:8050/\"\n",
       "            frameborder=\"0\"\n",
       "            allowfullscreen\n",
       "            \n",
       "        ></iframe>\n",
       "        "
      ]
     },
     "metadata": {},
     "output_type": "display_data"
    }
   ],
   "execution_count": 6
  },
  {
   "metadata": {},
   "cell_type": "code",
   "outputs": [],
   "execution_count": null,
   "source": "",
   "id": "455cad956df5cbc5"
  },
  {
   "metadata": {
    "ExecuteTime": {
     "end_time": "2025-04-17T19:03:10.199447Z",
     "start_time": "2025-04-17T19:03:10.011364Z"
    }
   },
   "cell_type": "code",
   "source": [
    "import base64\n",
    "import io\n",
    "import pandas as pd\n",
    "from dash import Dash, dcc, html, Input, Output, State, callback_context\n",
    "import plotly.express as px\n",
    "import dash\n",
    "\n",
    "\n",
    "app = Dash(__name__)\n",
    "\n",
    "\n",
    "styles = {\n",
    "    'container': {\n",
    "        'margin': '20px',\n",
    "        'fontFamily': 'Arial, sans-serif'\n",
    "    },\n",
    "    'header': {\n",
    "        'backgroundColor': '#1a2d40',\n",
    "        'padding': '2rem',\n",
    "        'borderRadius': '15px',\n",
    "        'color': 'white',\n",
    "        'marginBottom': '2rem',\n",
    "        'boxShadow': '0 4px 6px rgba(0,0,0,0.1)'\n",
    "    },\n",
    "    'upload': {\n",
    "        'width': '100%',\n",
    "        'height': '60px',\n",
    "        'lineHeight': '60px',\n",
    "        'borderWidth': '1px',\n",
    "        'borderStyle': 'dashed',\n",
    "        'borderRadius': '5px',\n",
    "        'textAlign': 'center',\n",
    "        'marginBottom': '2rem'\n",
    "    },\n",
    "    'filters': {\n",
    "        'backgroundColor': 'white',\n",
    "        'padding': '2rem',\n",
    "        'borderRadius': '15px',\n",
    "        'boxShadow': '0 4px 6px rgba(0,0,0,0.1)',\n",
    "        'marginBottom': '2rem'\n",
    "    },\n",
    "    'graph': {\n",
    "        'backgroundColor': 'white',\n",
    "        'borderRadius': '15px',\n",
    "        'padding': '15px',\n",
    "        'marginBottom': '20px',\n",
    "        'boxShadow': '0 4px 6px rgba(0,0,0,0.1)'\n",
    "    },\n",
    "    'stats': {\n",
    "        'backgroundColor': '#1a2d40',\n",
    "        'color': 'white',\n",
    "        'padding': '1.5rem',\n",
    "        'borderRadius': '15px',\n",
    "        'marginTop': '2rem'\n",
    "    }\n",
    "}\n",
    "\n",
    "app.layout = html.Div(style=styles['container'], children=[\n",
    "    dcc.Store(id='stored-data'),  \n",
    "    \n",
    "    html.Div(style=styles['header'], children=[\n",
    "        html.H1(\"Панель мониторинга пациентов\", style={'textAlign': 'center', 'marginBottom': '10px'}),\n",
    "        html.P(\"Интерактивная визуализация медицинских данных в реальном времени\", \n",
    "              style={'textAlign': 'center', 'fontSize': '1.1rem'})\n",
    "    ]),\n",
    "    \n",
    "    # Компонент для загрузки файла\n",
    "    dcc.Upload(\n",
    "        id='upload-data',\n",
    "        children=html.Div(['Перетащите или ', html.A('выберите CSV-файл')]),\n",
    "        style=styles['upload'],\n",
    "        multiple=False\n",
    "    ),\n",
    "    \n",
    "    # Контейнер для основного контента (скрыт до загрузки данных)\n",
    "    html.Div(id='content', style={'display': 'none'}, children=[\n",
    "        html.Div(style=styles['filters'], children=[\n",
    "            html.Div([\n",
    "                html.Label(\"Диапазон дат\", style={'fontWeight': 'bold', 'marginBottom': '5px'}),\n",
    "                dcc.DatePickerRange(\n",
    "                    id='date-range',\n",
    "                    display_format='YYYY-MM-DD'\n",
    "                )\n",
    "            ], style={'width': '100%', 'marginBottom': '20px'}),\n",
    "            \n",
    "            html.Div([\n",
    "                html.Label(\"Пол пациента\", style={'fontWeight': 'bold', 'marginBottom': '5px'}),\n",
    "                dcc.Dropdown(\n",
    "                    id=\"gender-filter\",\n",
    "                    options=[{\"label\": g, \"value\": g} for g in [\"All\", \"Male\", \"Female\"]],\n",
    "                    value=\"All\",\n",
    "                    clearable=False,\n",
    "                    style={'borderRadius': '8px'}\n",
    "                )\n",
    "            ], style={'width': '30%', 'display': 'inline-block', 'marginRight': '5%'}),\n",
    "            \n",
    "            html.Div([\n",
    "                html.Label(\"Состояние\", style={'fontWeight': 'bold', 'marginBottom': '5px'}),\n",
    "                dcc.Dropdown(\n",
    "                    id=\"condition-filter\",\n",
    "                    options=[{\"label\": c, \"value\": c} for c in [\"All\", \"Stable\", \"Critical\", \"Recovering\"]],\n",
    "                    value=\"All\",\n",
    "                    clearable=False,\n",
    "                    style={'borderRadius': '8px'}\n",
    "                )\n",
    "            ], style={'width': '30%', 'display': 'inline-block', 'marginRight': '5%'}),\n",
    "            \n",
    "            html.Div([\n",
    "                html.Label(\"Возрастной диапазон\", style={'fontWeight': 'bold', 'marginBottom': '15px'}),\n",
    "                dcc.RangeSlider(\n",
    "                    id=\"age-slider\",\n",
    "                    min=0,\n",
    "                    max=100,\n",
    "                    step=5,\n",
    "                    marks={i: {'label': str(i), 'style': {'color': '#1a2d40'}} for i in range(0, 101, 10)},\n",
    "                    value=[0, 100],\n",
    "                    tooltip={'placement': 'bottom'}\n",
    "                )\n",
    "            ], style={'width': '30%', 'display': 'inline-block'})\n",
    "        ]),\n",
    "        \n",
    "        dcc.Loading(\n",
    "            id=\"loading\",\n",
    "            type=\"circle\",\n",
    "            children=[\n",
    "                html.Div([\n",
    "                    dcc.Graph(\n",
    "                        id=\"vital-signs-plot\",\n",
    "                        style={**styles['graph'], 'height': '500px'}\n",
    "                    ),\n",
    "                    \n",
    "                    html.Div([\n",
    "                        html.Div(\n",
    "                            dcc.Graph(id=\"patient-distribution\"),\n",
    "                            style={**styles['graph'], 'width': '48%', 'display': 'inline-block'}\n",
    "                        ),\n",
    "                        html.Div(\n",
    "                            dcc.Graph(id=\"hr-distribution\"),\n",
    "                            style={**styles['graph'], 'width': '48%', 'display': 'inline-block', 'float': 'right'}\n",
    "                        )\n",
    "                    ]),\n",
    "                    \n",
    "                    html.Div(\n",
    "                        id=\"advanced-stats\",\n",
    "                        style=styles['stats']\n",
    "                    )\n",
    "                ])\n",
    "            ]\n",
    "        )\n",
    "    ])\n",
    "])\n",
    "\n",
    "@app.callback(\n",
    "    [Output('stored-data', 'data'),\n",
    "     Output('content', 'style'),\n",
    "     Output('date-range', 'start_date'),\n",
    "     Output('date-range', 'end_date'),\n",
    "     Output('age-slider', 'marks')],\n",
    "    [Input('upload-data', 'contents')],\n",
    "    [State('upload-data', 'filename')]\n",
    ")\n",
    "def update_data(contents, filename):\n",
    "    if contents is None:\n",
    "        return dash.no_update, {'display': 'none'}, dash.no_update, dash.no_update, dash.no_update\n",
    "    \n",
    "    content_type, content_string = contents.split(',')\n",
    "    decoded = base64.b64decode(content_string)\n",
    "    \n",
    "    try:\n",
    "        df = pd.read_csv(\n",
    "            io.StringIO(decoded.decode('utf-8')),\n",
    "            sep=';',\n",
    "            parse_dates=['last_update'],\n",
    "            dayfirst=False\n",
    "        )\n",
    "        \n",
    "        \n",
    "        age_marks = {i: {'label': str(i), 'style': {'color': '#1a2d40'}} \n",
    "                   for i in range(0, 101, 10)}\n",
    "        \n",
    "        return (\n",
    "            df.to_json(date_format='iso', orient='split'),\n",
    "            {'display': 'block'},\n",
    "            df['last_update'].min(),\n",
    "            df['last_update'].max(),\n",
    "            age_marks\n",
    "        )\n",
    "    except Exception as e:\n",
    "        print(f\"Ошибка при чтении файла: {e}\")\n",
    "        return dash.no_update, {'display': 'none'}, dash.no_update, dash.no_update, dash.no_update\n",
    "\n",
    "\n",
    "@app.callback(\n",
    "    Output(\"vital-signs-plot\", \"figure\"),\n",
    "    Output(\"patient-distribution\", \"figure\"),\n",
    "    Output(\"hr-distribution\", \"figure\"),\n",
    "    Output(\"advanced-stats\", \"children\"),\n",
    "    Input(\"gender-filter\", \"value\"),\n",
    "    Input(\"condition-filter\", \"value\"),\n",
    "    Input(\"age-slider\", \"value\"),\n",
    "    Input(\"date-range\", \"start_date\"),  \n",
    "    Input(\"date-range\", \"end_date\"),\n",
    "    Input('stored-data', 'data')\n",
    ")\n",
    "def update_dashboard(selected_gender, selected_condition, age_range, \n",
    "                    start_date, end_date, stored_data):\n",
    "    if stored_data is None:\n",
    "        return dash.no_update, dash.no_update, dash.no_update, dash.no_update\n",
    "    \n",
    "    df = pd.read_json(io.StringIO(stored_data), orient='split')\n",
    "    \n",
    "    \n",
    "    df['last_update'] = pd.to_datetime(\n",
    "        df['last_update'], \n",
    "        format='%Y-%m-%dT%H:%M:%S.%f', \n",
    "        errors='coerce'\n",
    "    )\n",
    "    \n",
    "    \n",
    "    filtered_df = df[\n",
    "        (df[\"last_update\"] >= pd.to_datetime(start_date)) &\n",
    "        (df[\"last_update\"] <= pd.to_datetime(end_date)) &\n",
    "        (df[\"age\"] >= age_range[0]) &\n",
    "        (df[\"age\"] <= age_range[1])\n",
    "    ]\n",
    "\n",
    "    if selected_gender != \"All\":\n",
    "        filtered_df = filtered_df[filtered_df[\"gender\"] == selected_gender]\n",
    "    if selected_condition != \"All\":\n",
    "        filtered_df = filtered_df[filtered_df[\"condition\"] == selected_condition]\n",
    "\n",
    "    # График 1: Динамика сердечного ритма\n",
    "    fig1 = px.scatter(\n",
    "        filtered_df,\n",
    "        x=\"last_update\",\n",
    "        y=\"heart_rate\",\n",
    "        color=\"condition\",\n",
    "        size=\"age\",\n",
    "        hover_data=[\"blood_pressure\"],\n",
    "        title=\"Динамика сердечного ритма\",\n",
    "        template=\"plotly_white\",\n",
    "        color_discrete_map={\n",
    "            'Stable': '#2ecc71',\n",
    "            'Critical': '#e74c3c',\n",
    "            'Recovering': '#3498db'\n",
    "        }\n",
    "    ).update_layout(\n",
    "        plot_bgcolor='rgba(0,0,0,0)',\n",
    "        paper_bgcolor='rgba(0,0,0,0)',\n",
    "        hovermode='x unified'\n",
    "    )\n",
    "\n",
    "    # График 2: Распределение состояний\n",
    "    fig2 = px.pie(\n",
    "        filtered_df,\n",
    "        names=\"condition\",\n",
    "        hole=0.5,\n",
    "        title=\"Распределение состояний\",\n",
    "        color=\"condition\",\n",
    "        color_discrete_map={\n",
    "            'Stable': '#2ecc71',\n",
    "            'Critical': '#e74c3c',\n",
    "            'Recovering': '#3498db'\n",
    "        }\n",
    "    ).update_traces(\n",
    "        textposition='inside', \n",
    "        textinfo='percent+label'\n",
    "    )\n",
    "\n",
    "    # График 3: Распределение пульса\n",
    "    fig3 = px.histogram(\n",
    "        filtered_df,\n",
    "        x=\"heart_rate\",\n",
    "        nbins=20,\n",
    "        color=\"gender\",\n",
    "        title=\"Распределение пульса\",\n",
    "        color_discrete_map={\n",
    "            'Male': '#2980b9',\n",
    "            'Female': '#e67e22'\n",
    "        }\n",
    "    ).update_layout(\n",
    "        bargap=0.1,\n",
    "        showlegend=False\n",
    "    )\n",
    "\n",
    "    # Статистика\n",
    "    if not filtered_df.empty:\n",
    "        stats = [\n",
    "            html.H4(\"📊 Статистика выборки\", style={'marginBottom': '15px'}),\n",
    "            html.Div([\n",
    "                html.Div([\n",
    "                    html.P(\"Всего пациентов\", style={'opacity': 0.8}),\n",
    "                    html.H3(f\"{len(filtered_df)}\", style={'color': '#2ecc71'})\n",
    "                ], style={'width': '24%', 'display': 'inline-block'}),\n",
    "                \n",
    "                html.Div([\n",
    "                    html.P(\"Средний возраст\", style={'opacity': 0.8}),\n",
    "                    html.H3(f\"{filtered_df['age'].mean():.1f} лет\", style={'color': '#3498db'})\n",
    "                ], style={'width': '24%', 'display': 'inline-block'}),\n",
    "                \n",
    "                html.Div([\n",
    "                    html.P(\"Средний пульс\", style={'opacity': 0.8}),\n",
    "                    html.H3(f\"{filtered_df['heart_rate'].mean():.1f} уд/мин\", style={'color': '#e67e22'})\n",
    "                ], style={'width': '24%', 'display': 'inline-block'}),\n",
    "                \n",
    "                html.Div([\n",
    "                    html.P(\"Критических случаев\", style={'opacity': 0.8}),\n",
    "                    html.H3(f\"{sum(filtered_df['condition'] == 'Critical')}\", style={'color': '#e74c3c'})\n",
    "                ], style={'width': '24%', 'display': 'inline-block'})\n",
    "            ])\n",
    "        ]\n",
    "    else:\n",
    "        stats = html.P(\"Нет данных для отображения\", style={'textAlign': 'center'})\n",
    "\n",
    "    return fig1, fig2, fig3, stats\n",
    "\n",
    "if __name__ == \"__main__\":\n",
    "    app.run(debug=True)"
   ],
   "id": "2b85db949d0bdbb",
   "outputs": [
    {
     "data": {
      "text/plain": [
       "<IPython.lib.display.IFrame at 0x150b0f3db20>"
      ],
      "text/html": [
       "\n",
       "        <iframe\n",
       "            width=\"100%\"\n",
       "            height=\"650\"\n",
       "            src=\"http://127.0.0.1:8050/\"\n",
       "            frameborder=\"0\"\n",
       "            allowfullscreen\n",
       "            \n",
       "        ></iframe>\n",
       "        "
      ]
     },
     "metadata": {},
     "output_type": "display_data"
    }
   ],
   "execution_count": 3
  }
 ],
 "metadata": {
  "kernelspec": {
   "display_name": "Python 3 (ipykernel)",
   "language": "python",
   "name": "python3"
  },
  "language_info": {
   "codemirror_mode": {
    "name": "ipython",
    "version": 3
   },
   "file_extension": ".py",
   "mimetype": "text/x-python",
   "name": "python",
   "nbconvert_exporter": "python",
   "pygments_lexer": "ipython3",
   "version": "3.12.2"
  }
 },
 "nbformat": 4,
 "nbformat_minor": 5
}
